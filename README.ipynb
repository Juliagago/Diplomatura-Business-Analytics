{
 "cells": [
  {
   "cell_type": "markdown",
   "id": "036471bb",
   "metadata": {},
   "source": [
    "## Read Me"
   ]
  },
  {
   "cell_type": "markdown",
   "id": "5179d0fb",
   "metadata": {},
   "source": [
    "I conducted this project in the Business Analytics Diploma at Universidad del Aconcagua.\n",
    "\n",
    "**The goal of this project is to predict the purchase of potential customers, which is crucial to carry out retargeting campaigns that increase the organization's profits and optimize marketing spending.**\n"
   ]
  },
  {
   "cell_type": "markdown",
   "id": "e789b2db",
   "metadata": {},
   "source": [
    "**Description of dataset**"
   ]
  },
  {
   "cell_type": "markdown",
   "id": "75928b69",
   "metadata": {},
   "source": [
    "Administrative: Number of administrative pages that the user has visited.\n",
    "\n",
    "Administrative_Duration: Amount of time the user has spent on these types of pages.\n",
    "\n",
    "Informational: Number of informational pages that the user has visited.\n",
    "\n",
    "Informational_Duration: Amount of time the user has spent on this type of pages.\n",
    "\n",
    "ProductRelated: Number of product pages that the user has visited.\n",
    "\n",
    "ProductRelated_Duration: Amount of time the user has spent on these types of pages.\n",
    "\n",
    "BounceRates: Percentage of visitors who enter the website through the page they landed on.\n",
    "\n",
    "ExitRates: Percentage of page views that end on the page they landed on.\n",
    "\n",
    "PageValues: Internal evaluation of the page.\n",
    "\n",
    "SpecialDay: Proximity in time to a holiday.\n",
    "\n",
    "Month: Month.\n",
    "\n",
    "OperatingSystems: Operating system.\n",
    "\n",
    "Browser: Browser.\n",
    "\n",
    "Region: Region.\n",
    "\n",
    "TrafficType: Traffic type.\n",
    "\n",
    "VisitorType: Visitor type (New or returning).\n",
    "\n",
    "Weekend: True/False if is weekend.\n",
    "\n",
    "Revenue: True/False if the customer has made a purchase."
   ]
  },
  {
   "cell_type": "markdown",
   "id": "df749992",
   "metadata": {},
   "source": [
    "To achieve this, the following upgrades were executed:\n",
    "\n",
    "pip install --upgrade pip\n",
    "\n",
    "pip install --upgrade pycaret\n"
   ]
  },
  {
   "cell_type": "markdown",
   "id": "11e96760",
   "metadata": {},
   "source": [
    "**The data is already separated into Train and Test, so there was no need to split the data:**"
   ]
  },
  {
   "cell_type": "markdown",
   "id": "f668ed9f",
   "metadata": {},
   "source": [
    "**Links dataset:**\n",
    "\n",
    "train = \"https://raw.githubusercontent.com/LucaAPiattelli/Diplomatura_Business_Analytics_UDA/main/Datasets/Clientes_train.csv\"\n",
    "\n",
    "test = \"https://raw.githubusercontent.com/LucaAPiattelli/Diplomatura_Business_Analytics_UDA/main/Datasets/Clientes_test.csv\"\n"
   ]
  },
  {
   "cell_type": "markdown",
   "id": "c2c671b4",
   "metadata": {},
   "source": [
    "**The following libraries were imported:**\n",
    "\n",
    "import pandas as pd\n",
    "\n",
    "import numpy as np\n",
    "\n",
    "from pycaret.classification import *\n",
    "\n",
    "from pycaret.utils.generic import check_metric\n",
    "\n",
    "import logging, sys\n",
    "logging.disable(sys.maxsize)"
   ]
  },
  {
   "cell_type": "markdown",
   "id": "c7765b90",
   "metadata": {},
   "source": [
    "**DEVELOPMENT**"
   ]
  },
  {
   "cell_type": "markdown",
   "id": "19e84015",
   "metadata": {},
   "source": [
    "A general analysis of the data was performed.\n",
    "\n",
    "No null values were found.\n",
    "\n",
    "In the training data, the \"Revenue\" variable was replaced with 1 (True) and 0 (False).\n",
    "\n",
    "The best classification models were compared to apply to the data, and it was concluded that the data should be predicted according to the \"Gradient Boosting Classifier\" or \"GBC\" model.\n",
    "\n",
    "tune_model() was used to optimize the model.\n",
    "\n",
    "The ROC curve obtained a very good score higher than 0.93.\n",
    "\n",
    "The confusion matrix had 2201 correct predictions and made errors in 287 cases, which means it had a 10% error in predicting the data."
   ]
  },
  {
   "cell_type": "markdown",
   "id": "0e4d3164",
   "metadata": {},
   "source": [
    "**CONCLUTION**"
   ]
  },
  {
   "cell_type": "markdown",
   "id": "47305f48",
   "metadata": {},
   "source": [
    "In conclusion, this project aimed to predict the purchase of potential customers to enable retargeting campaigns that increase the organization's profits and optimize marketing spending. By analyzing the data and using the \"Gradient Boosting Classifier\" or \"GBC\" model, we were able to achieve a very good score on the ROC curve and a 10% error rate in predicting the data. Overall, this project provides a useful framework for predicting customer purchases and can be used as a basis for further research and development in the field of data science."
   ]
  },
  {
   "cell_type": "code",
   "execution_count": null,
   "id": "6d0926d0",
   "metadata": {},
   "outputs": [],
   "source": []
  }
 ],
 "metadata": {
  "kernelspec": {
   "display_name": "Python 3 (ipykernel)",
   "language": "python",
   "name": "python3"
  },
  "language_info": {
   "codemirror_mode": {
    "name": "ipython",
    "version": 3
   },
   "file_extension": ".py",
   "mimetype": "text/x-python",
   "name": "python",
   "nbconvert_exporter": "python",
   "pygments_lexer": "ipython3",
   "version": "3.9.13"
  }
 },
 "nbformat": 4,
 "nbformat_minor": 5
}
